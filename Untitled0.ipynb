{
  "nbformat": 4,
  "nbformat_minor": 0,
  "metadata": {
    "colab": {
      "name": "Untitled0.ipynb",
      "provenance": [],
      "authorship_tag": "ABX9TyM/f0eeBNkjwsQnqr9446u6",
      "include_colab_link": true
    },
    "kernelspec": {
      "name": "python3",
      "display_name": "Python 3"
    },
    "language_info": {
      "name": "python"
    }
  },
  "cells": [
    {
      "cell_type": "markdown",
      "metadata": {
        "id": "view-in-github",
        "colab_type": "text"
      },
      "source": [
        "<a href=\"https://colab.research.google.com/github/jedo-w/DiscordBot/blob/master/Untitled0.ipynb\" target=\"_parent\"><img src=\"https://colab.research.google.com/assets/colab-badge.svg\" alt=\"Open In Colab\"/></a>"
      ]
    },
    {
      "cell_type": "code",
      "metadata": {
        "colab": {
          "base_uri": "https://localhost:8080/",
          "height": 86
        },
        "id": "IGyOFOP4L490",
        "outputId": "98f58a2a-5059-49d6-d483-504286eb5b34"
      },
      "source": [
        "i=255\n",
        "print(hex(i))\n",
        "print(str(i))\n",
        "print(type(i))\n",
        "'{:*=15,d}'.format(i)\n",
        "\n",
        "a=\"GG\"\n",
        "b=10\n",
        "c=\"こんにちは\"\n",
        "'{n3},{n2}'.format(n3=c,n2=b)\n",
        "\n",
        "q=12345678\n",
        "'{:*^15d}'.format(q)\n",
        "\n",
        "w=\"from wan to outside 123-1\"\n",
        "'{:*>30s}'.format(w)\n",
        "\n"
      ],
      "execution_count": 53,
      "outputs": [
        {
          "output_type": "stream",
          "text": [
            "0xff\n",
            "255\n",
            "<class 'int'>\n"
          ],
          "name": "stdout"
        },
        {
          "output_type": "execute_result",
          "data": {
            "application/vnd.google.colaboratory.intrinsic+json": {
              "type": "string"
            },
            "text/plain": [
              "'*****from wan to outside 123-1'"
            ]
          },
          "metadata": {
            "tags": []
          },
          "execution_count": 53
        }
      ]
    },
    {
      "cell_type": "markdown",
      "metadata": {
        "id": "Xd9VRjiWdsul"
      },
      "source": [
        "*でパディング"
      ]
    },
    {
      "cell_type": "markdown",
      "metadata": {
        "id": "8FiIdee3tUXC"
      },
      "source": [
        ""
      ]
    }
  ]
}