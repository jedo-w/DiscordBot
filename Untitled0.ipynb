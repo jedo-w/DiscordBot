{
  "nbformat": 4,
  "nbformat_minor": 0,
  "metadata": {
    "colab": {
      "name": "Untitled0.ipynb",
      "provenance": [],
      "authorship_tag": "ABX9TyPXzM3FozfQ4yITlVPm20Bg",
      "include_colab_link": true
    },
    "kernelspec": {
      "name": "python3",
      "display_name": "Python 3"
    },
    "language_info": {
      "name": "python"
    }
  },
  "cells": [
    {
      "cell_type": "markdown",
      "metadata": {
        "id": "view-in-github",
        "colab_type": "text"
      },
      "source": [
        "<a href=\"https://colab.research.google.com/github/jedo-w/DiscordBot/blob/master/Untitled0.ipynb\" target=\"_parent\"><img src=\"https://colab.research.google.com/assets/colab-badge.svg\" alt=\"Open In Colab\"/></a>"
      ]
    },
    {
      "cell_type": "code",
      "metadata": {
        "colab": {
          "base_uri": "https://localhost:8080/"
        },
        "id": "IGyOFOP4L490",
        "outputId": "bbb5c1b3-a3d7-4c6e-9683-a2cdc3a68e41"
      },
      "source": [
        "bin=0b10\n",
        "print(bin)\n",
        "\n",
        "oct=0o10\n",
        "print(oct)\n",
        "\n",
        "hex=0x10\n",
        "print(hex)\n",
        "\n",
        "print(type(bin))\n",
        "\n",
        "bin2=0b1111_0111,0b1111_1111,0b0000_1111,0b1111_1101\n",
        "print(bin2)\n"
      ],
      "execution_count": 35,
      "outputs": [
        {
          "output_type": "stream",
          "text": [
            "2\n",
            "8\n",
            "16\n",
            "<class 'int'>\n",
            "(247, 255, 15, 253)\n"
          ],
          "name": "stdout"
        }
      ]
    }
  ]
}